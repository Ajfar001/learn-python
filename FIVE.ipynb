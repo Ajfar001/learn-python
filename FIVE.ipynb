{
 "cells": [
  {
   "cell_type": "markdown",
   "metadata": {},
   "source": [
    "# Learning Python - 5\n",
    "## Classes and OOP in Python\n",
    "---"
   ]
  },
  {
   "cell_type": "markdown",
   "metadata": {
    "inputHidden": false,
    "jupyter": {
     "outputs_hidden": false
    },
    "outputHidden": false
   },
   "source": [
    "Python is an object oriented programming language and almost everything in python is an object.\n",
    "Python classes are defined like this -\n",
    "```python\n",
    "class ClassName:\n",
    "    #class body\n",
    "```\n",
    "\n",
    "As python does not have any explicit data types, and the variables are initialized only when some data is assigned to them, it's better to create a class witha constructuctor or `__init__` method in case of python. Here's a class with an init method.\n",
    "\n",
    "```python\n",
    "class ClassName:\n",
    "    def __init__(self, x, y):\n",
    "        self.x = x\n",
    "        self.y = y\n",
    "```\n",
    "\n",
    "Let's declare a sample Student class for deeper understanding."
   ]
  },
  {
   "cell_type": "code",
   "execution_count": 7,
   "metadata": {},
   "outputs": [],
   "source": [
    "class Student:\n",
    "    def __init__(self, n_roll, fname, lname, branch):\n",
    "        self.n_roll = n_roll\n",
    "        self.fname = fname\n",
    "        self.lname = lname\n",
    "        self.branch = branch"
   ]
  },
  {
   "cell_type": "markdown",
   "metadata": {},
   "source": [
    "Check out the usage of `self` parameter. `self` is a way of invoking the class methods and variables inside the class."
   ]
  },
  {
   "cell_type": "markdown",
   "metadata": {},
   "source": [
    "Now that we have defined a student class, let's create some objects of that student class."
   ]
  },
  {
   "cell_type": "code",
   "execution_count": 8,
   "metadata": {},
   "outputs": [],
   "source": [
    "s1 = Student(\"101\", \"Aurghyadip\", \"Kundu\", \"IT\")"
   ]
  },
  {
   "cell_type": "markdown",
   "metadata": {},
   "source": [
    "Now that we have created an object of the student class, let's see what happens if we try to access a class variable through the object."
   ]
  },
  {
   "cell_type": "code",
   "execution_count": 9,
   "metadata": {},
   "outputs": [
    {
     "name": "stdout",
     "output_type": "stream",
     "text": [
      "Aurghyadip\n"
     ]
    }
   ],
   "source": [
    "print(s1.fname)"
   ]
  },
  {
   "cell_type": "markdown",
   "metadata": {},
   "source": [
    "Well, as expected, we can access class variables as we have stored them with the help of `self` parameter."
   ]
  },
  {
   "cell_type": "markdown",
   "metadata": {},
   "source": [
    "Now it's time to create some methods/functions inside the class."
   ]
  },
  {
   "cell_type": "code",
   "execution_count": 15,
   "metadata": {},
   "outputs": [],
   "source": [
    "class Student:\n",
    "    def __init__(self, n_roll, fname, lname, branch):\n",
    "        self.n_roll = n_roll\n",
    "        self.fname = fname\n",
    "        self.lname = lname\n",
    "        self.branch = branch\n",
    "    \n",
    "    # this function will print the full name of a student.\n",
    "    def display_name(self):\n",
    "        print(self.fname, self.lname)"
   ]
  },
  {
   "cell_type": "code",
   "execution_count": 16,
   "metadata": {},
   "outputs": [],
   "source": [
    "s1 = Student(\"101\", \"Aurghyadip\", \"Kundu\", \"IT\")"
   ]
  },
  {
   "cell_type": "markdown",
   "metadata": {},
   "source": [
    "Let's try calling the function."
   ]
  },
  {
   "cell_type": "code",
   "execution_count": 17,
   "metadata": {},
   "outputs": [
    {
     "name": "stdout",
     "output_type": "stream",
     "text": [
      "Aurghyadip Kundu\n"
     ]
    }
   ],
   "source": [
    "s1.display_name()"
   ]
  },
  {
   "cell_type": "markdown",
   "metadata": {},
   "source": [
    "**Note** the fact how we have to include the `self` parameter in the argument of almost each and every function we declare inside a class. It's a way of accessing class variables.***The first argument of each function (including the `__init__` function is self paramter. You can name it anything you want and it will still work.***\n",
    "\n",
    "Let's try that now."
   ]
  },
  {
   "cell_type": "code",
   "execution_count": 18,
   "metadata": {},
   "outputs": [],
   "source": [
    "class Student:\n",
    "    def __init__(silly, n_roll, fname, lname, branch):\n",
    "        silly.n_roll = n_roll\n",
    "        silly.fname = fname\n",
    "        silly.lname = lname\n",
    "        silly.branch = branch\n",
    "    \n",
    "    # this function will print the full name of a student.\n",
    "    def display_name(hehe):\n",
    "        print(hehe.fname, hehe.lname)"
   ]
  },
  {
   "cell_type": "code",
   "execution_count": 19,
   "metadata": {},
   "outputs": [],
   "source": [
    "s1 = Student(\"101\", \"Aurghyadip\", \"Kundu\", \"IT\")"
   ]
  },
  {
   "cell_type": "code",
   "execution_count": 21,
   "metadata": {},
   "outputs": [
    {
     "name": "stdout",
     "output_type": "stream",
     "text": [
      "Aurghyadip Kundu\n"
     ]
    }
   ],
   "source": [
    "s1.display_name()"
   ]
  },
  {
   "cell_type": "markdown",
   "metadata": {},
   "source": [
    "You can also modify and delete object properties like this."
   ]
  },
  {
   "cell_type": "code",
   "execution_count": 22,
   "metadata": {},
   "outputs": [],
   "source": [
    "# modify object property\n",
    "s1.n_roll = \"200\""
   ]
  },
  {
   "cell_type": "code",
   "execution_count": 23,
   "metadata": {},
   "outputs": [],
   "source": [
    "# delete object property\n",
    "del s1.n_roll"
   ]
  },
  {
   "cell_type": "code",
   "execution_count": 24,
   "metadata": {},
   "outputs": [
    {
     "ename": "AttributeError",
     "evalue": "'Student' object has no attribute 'n_roll'",
     "output_type": "error",
     "traceback": [
      "\u001b[0;31m---------------------------------------------------------------------------\u001b[0m",
      "\u001b[0;31mAttributeError\u001b[0m                            Traceback (most recent call last)",
      "\u001b[0;32m<ipython-input-24-dbd121fba2bf>\u001b[0m in \u001b[0;36m<module>\u001b[0;34m\u001b[0m\n\u001b[0;32m----> 1\u001b[0;31m \u001b[0ms1\u001b[0m\u001b[0;34m.\u001b[0m\u001b[0mn_roll\u001b[0m\u001b[0;34m\u001b[0m\u001b[0;34m\u001b[0m\u001b[0m\n\u001b[0m",
      "\u001b[0;31mAttributeError\u001b[0m: 'Student' object has no attribute 'n_roll'"
     ]
    }
   ],
   "source": [
    "s1.n_roll"
   ]
  },
  {
   "cell_type": "markdown",
   "metadata": {},
   "source": [
    "---\n",
    "# Inheritence"
   ]
  },
  {
   "cell_type": "markdown",
   "metadata": {},
   "source": [
    "Inheritence is a way in OOP languages to inherit the properties (methods and variables) of another class (often expressed as parent class).\n",
    "Here's how it is declared.\n",
    "```python\n",
    "class ParentClass:\n",
    "    pass\n",
    "\n",
    "class ChildClass(ParentClass):\n",
    "    pass\n",
    "```"
   ]
  },
  {
   "cell_type": "markdown",
   "metadata": {},
   "source": [
    "Imagine now we have a parent class called `Person` and a child class called `Employee`."
   ]
  },
  {
   "cell_type": "code",
   "execution_count": 26,
   "metadata": {},
   "outputs": [],
   "source": [
    "class Person:\n",
    "    fname = \"John\"\n",
    "    lname = \"Doe\"\n",
    "\n",
    "class Employee(Person):\n",
    "    employee_id = \"100\""
   ]
  },
  {
   "cell_type": "markdown",
   "metadata": {},
   "source": [
    "Now, let's create an object of the `Employee` class and try to access the `fname` and `lname`."
   ]
  },
  {
   "cell_type": "code",
   "execution_count": 27,
   "metadata": {},
   "outputs": [
    {
     "name": "stdout",
     "output_type": "stream",
     "text": [
      "John Doe\n"
     ]
    }
   ],
   "source": [
    "emp = Employee()\n",
    "print(emp.fname, emp.lname)"
   ]
  },
  {
   "cell_type": "markdown",
   "metadata": {},
   "source": [
    "As you can see, we can access the variables of `Person` class from within the employee object. Let's see this more programmatically."
   ]
  },
  {
   "cell_type": "code",
   "execution_count": 32,
   "metadata": {},
   "outputs": [],
   "source": [
    "class Person:\n",
    "    def __init__(self, fname, lname):\n",
    "        self.fname = fname\n",
    "        self.lname = lname\n",
    "        \n",
    "    def display_name(self):\n",
    "        print(self.fname, self.lname)\n",
    "\n",
    "class Employee(Person):\n",
    "    def __init__(self, fname, lname, employee_id):\n",
    "        super().__init__(fname, lname)\n",
    "        self.employee_id = employee_id\n",
    "        \n",
    "    def display_employee(self):\n",
    "        super().display_name()\n",
    "        print(\"Employee ID:\", self.employee_id)"
   ]
  },
  {
   "cell_type": "markdown",
   "metadata": {},
   "source": [
    "Now, we see a few new things.\n",
    "The `super()` function is a way of accessing the properties of the parent class.\n",
    "\n",
    "But we could have also written the class like this.\n",
    "```python\n",
    "class Person:\n",
    "    def __init__(self, fname, lname):\n",
    "        self.fname = fname\n",
    "        self.lname = lname\n",
    "        \n",
    "    def display_name(self):\n",
    "        print(self.fname, self.lname)\n",
    "\n",
    "class Employee(Person):\n",
    "    def __init__(self, fname, lname, employee_id):\n",
    "        Person.__init__(fname, lname)\n",
    "        self.employee_id = employee_id\n",
    "    \n",
    "    def display_employee(self):\n",
    "        Person.display_name()\n",
    "        print(\"Employee ID:\", self.employee_id)\n",
    "```"
   ]
  },
  {
   "cell_type": "markdown",
   "metadata": {},
   "source": [
    "Let's see what happens if we create an object of `Employee` class."
   ]
  },
  {
   "cell_type": "code",
   "execution_count": 33,
   "metadata": {},
   "outputs": [],
   "source": [
    "emp = Employee(\"John\", \"Doe\", \"101\")"
   ]
  },
  {
   "cell_type": "markdown",
   "metadata": {},
   "source": [
    "Now, let's call the `display_employee()` function from this `emp` object."
   ]
  },
  {
   "cell_type": "code",
   "execution_count": 34,
   "metadata": {},
   "outputs": [
    {
     "name": "stdout",
     "output_type": "stream",
     "text": [
      "John Doe\n",
      "Employee ID: 101\n"
     ]
    }
   ],
   "source": [
    "emp.display_employee()"
   ]
  },
  {
   "cell_type": "markdown",
   "metadata": {},
   "source": [
    "---\n",
    "And that concludes the Inheritence part of OOP in Python."
   ]
  }
 ],
 "metadata": {
  "kernel_info": {
   "name": "python3"
  },
  "kernelspec": {
   "display_name": "Python 3",
   "language": "python",
   "name": "python3"
  },
  "language_info": {
   "codemirror_mode": {
    "name": "ipython",
    "version": 3
   },
   "file_extension": ".py",
   "mimetype": "text/x-python",
   "name": "python",
   "nbconvert_exporter": "python",
   "pygments_lexer": "ipython3",
   "version": "3.7.6"
  },
  "nteract": {
   "version": "0.15.0"
  }
 },
 "nbformat": 4,
 "nbformat_minor": 4
}
