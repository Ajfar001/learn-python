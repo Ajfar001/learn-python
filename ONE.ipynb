{
 "cells": [
  {
   "cell_type": "markdown",
   "metadata": {},
   "source": [
    "# Learning Python - 1"
   ]
  },
  {
   "cell_type": "markdown",
   "metadata": {},
   "source": [
    "## Variables and Data Types"
   ]
  },
  {
   "cell_type": "code",
   "execution_count": 1,
   "metadata": {},
   "outputs": [
    {
     "name": "stdout",
     "output_type": "stream",
     "text": [
      "10\n",
      "Hello\n",
      "[1, 3, 5]\n"
     ]
    }
   ],
   "source": [
    "# Variables are only declared when there is a value attached to them\n",
    "a = 10\n",
    "print(a)\n",
    "\n",
    "# Variables doesn't have a fixed data type and data types can be interchanged without any type casting\n",
    "a = \"Hello\"\n",
    "print(a)\n",
    "\n",
    "a = [1, 3, 5]\n",
    "print(a)"
   ]
  },
  {
   "cell_type": "code",
   "execution_count": 2,
   "metadata": {},
   "outputs": [
    {
     "name": "stdout",
     "output_type": "stream",
     "text": [
      "10\n",
      "20.5\n",
      "Hello\n",
      "[1, 3, 5]\n"
     ]
    }
   ],
   "source": [
    "# Multiple variables with different types can be initialized at once\n",
    "a, b, c, d = 10, 20.5, \"Hello\", [1,3,5]\n",
    "print(a)\n",
    "print(b)\n",
    "print(c)\n",
    "print(d)"
   ]
  },
  {
   "cell_type": "markdown",
   "metadata": {},
   "source": [
    "Python codes are indent based and starting of a different block is \n",
    "identified by '**:**'"
   ]
  },
  {
   "cell_type": "code",
   "execution_count": 3,
   "metadata": {},
   "outputs": [
    {
     "name": "stdout",
     "output_type": "stream",
     "text": [
      "1\n",
      "2\n",
      "3\n",
      "4\n",
      "Hello\n",
      "Hello\n",
      "Hello\n",
      "Hello\n",
      "Hello\n"
     ]
    }
   ],
   "source": [
    "for i in range(1, 10):\n",
    "    if i < 5:\n",
    "        print(i)\n",
    "    else:\n",
    "        print(\"Hello\")"
   ]
  },
  {
   "cell_type": "code",
   "execution_count": 4,
   "metadata": {},
   "outputs": [],
   "source": [
    "# integer\n",
    "x = 10\n",
    "# float\n",
    "x = 10.5\n",
    "# complex number\n",
    "x = 5j\n",
    "# list\n",
    "x = [1, 3, 5, \"String\", 10.5, 5j]\n",
    "# tuple (list, but once initialized, the size can't be changed)\n",
    "x = (1, 5, 3)"
   ]
  },
  {
   "cell_type": "code",
   "execution_count": 5,
   "metadata": {},
   "outputs": [],
   "source": [
    "# Dicitionary (Key value pair)\n",
    "x = {\n",
    "    \"Name\" : \"Aurghya\",\n",
    "    \"Age\": {\n",
    "        \"DOB\": \"10-02-10\",\n",
    "        \"Count\": 10\n",
    "    }\n",
    "}"
   ]
  },
  {
   "cell_type": "code",
   "execution_count": 6,
   "metadata": {},
   "outputs": [
    {
     "name": "stdout",
     "output_type": "stream",
     "text": [
      "Banana\n",
      "Victor\n",
      "Apple\n"
     ]
    }
   ],
   "source": [
    "# Set (Like list, but is not indexed)\n",
    "x = {\"Apple\", \"Banana\", \"Victor\"}\n",
    "for i in x:\n",
    "    print(i)"
   ]
  },
  {
   "cell_type": "code",
   "execution_count": 7,
   "metadata": {},
   "outputs": [],
   "source": [
    "# Boolean, care for the capital (T of True and F of False)\n",
    "x = True\n",
    "x = False"
   ]
  },
  {
   "cell_type": "code",
   "execution_count": 8,
   "metadata": {},
   "outputs": [
    {
     "data": {
      "text/plain": [
       "<memory at 0x10870a2c0>"
      ]
     },
     "execution_count": 8,
     "metadata": {},
     "output_type": "execute_result"
    }
   ],
   "source": [
    "# Byte\n",
    "x = b\"Hello World\"\n",
    "\n",
    "# Byte array and memoryview\n",
    "memoryview(bytes(x))"
   ]
  },
  {
   "cell_type": "code",
   "execution_count": 9,
   "metadata": {
    "scrolled": true
   },
   "outputs": [
    {
     "name": "stdout",
     "output_type": "stream",
     "text": [
      "10\n",
      "10.5\n",
      "10.0\n",
      "10\n",
      "10\n"
     ]
    }
   ],
   "source": [
    "a = 10\n",
    "b = 10.5\n",
    "\n",
    "print(a)\n",
    "print(b)\n",
    "\n",
    "# Typecasting b to int and a to float\n",
    "\n",
    "b = int(b)\n",
    "a = float(a)\n",
    "print(a)\n",
    "print(b)\n",
    "\n",
    "a = 10\n",
    "str(a)\n",
    "print(a)"
   ]
  },
  {
   "cell_type": "code",
   "execution_count": 10,
   "metadata": {},
   "outputs": [
    {
     "data": {
      "text/plain": [
       "[1, 2, 3, 4, 5, 6, 7, 8, 9]"
      ]
     },
     "execution_count": 10,
     "metadata": {},
     "output_type": "execute_result"
    }
   ],
   "source": [
    "# shorthand initialization of a list\n",
    "a = [i for i in range(1, 10)]\n",
    "a"
   ]
  },
  {
   "cell_type": "code",
   "execution_count": 11,
   "metadata": {},
   "outputs": [
    {
     "name": "stdout",
     "output_type": "stream",
     "text": [
      "[5, 6, 7, 8, 9]\n",
      "[1, 2, 3]\n",
      "[8, 9]\n",
      "[1, 2, 3, 4, 5, 6]\n"
     ]
    }
   ],
   "source": [
    "# Slicing of list\n",
    "\n",
    "# removes 4 elements from begining\n",
    "b = a[4:]\n",
    "print(b)\n",
    "\n",
    "# only takes 3 elements from the begining\n",
    "b = a[:3]\n",
    "print(b)\n",
    "\n",
    "# Take two elements from the end\n",
    "b = a[-2:]\n",
    "print(b)\n",
    "\n",
    "# remove 3 elements from the end\n",
    "b = a[:-3]\n",
    "print(b)"
   ]
  },
  {
   "cell_type": "code",
   "execution_count": 12,
   "metadata": {},
   "outputs": [
    {
     "data": {
      "text/plain": [
       "True"
      ]
     },
     "execution_count": 12,
     "metadata": {},
     "output_type": "execute_result"
    }
   ],
   "source": [
    "a = 13\n",
    "b = 15\n",
    "\n",
    "# Logical operators - and, or, not\n",
    "a > 10 and b < 20\n",
    "a > 10 or b < 20\n",
    "not(a>13)"
   ]
  },
  {
   "cell_type": "code",
   "execution_count": 13,
   "metadata": {},
   "outputs": [
    {
     "name": "stdout",
     "output_type": "stream",
     "text": [
      "True\n",
      "True\n",
      "True\n",
      "False\n"
     ]
    }
   ],
   "source": [
    "a = [10, 20]\n",
    "b = [[10, 20], 30, \"Hello\"]\n",
    "c = [10, 20]\n",
    "\n",
    "# using in\n",
    "print(a in b)\n",
    "# using not in\n",
    "print(a not in c)\n",
    "\n",
    "# using is\n",
    "print(a[1] is c[1])\n",
    "\n",
    "# using is not\n",
    "print(a[1] is not c[1])"
   ]
  },
  {
   "cell_type": "code",
   "execution_count": 14,
   "metadata": {},
   "outputs": [
    {
     "name": "stdout",
     "output_type": "stream",
     "text": [
      "Apple\n"
     ]
    }
   ],
   "source": [
    "arr = [\"Apple\", \"Banana\", \"Stuti\"]\n",
    "\n",
    "# Negative index \n",
    "print(arr[-3])"
   ]
  },
  {
   "cell_type": "code",
   "execution_count": 15,
   "metadata": {},
   "outputs": [
    {
     "name": "stdout",
     "output_type": "stream",
     "text": [
      "3\n"
     ]
    }
   ],
   "source": [
    "# length of an list\n",
    "print(len(arr))"
   ]
  },
  {
   "cell_type": "code",
   "execution_count": 16,
   "metadata": {},
   "outputs": [
    {
     "name": "stdout",
     "output_type": "stream",
     "text": [
      "['Apple', 'Banana', 'Stuti', 'Aurghya']\n"
     ]
    }
   ],
   "source": [
    "# append function\n",
    "arr.append(\"Aurghya\")\n",
    "print(arr)"
   ]
  },
  {
   "cell_type": "code",
   "execution_count": 17,
   "metadata": {},
   "outputs": [
    {
     "name": "stdout",
     "output_type": "stream",
     "text": [
      "['Apple', 'Banana', 'Mango', 'Stuti', 'Aurghya']\n"
     ]
    }
   ],
   "source": [
    "# insert function\n",
    "# arr.insert(<index>, <value>)\n",
    "arr.insert(2, \"Mango\")\n",
    "print(arr)"
   ]
  },
  {
   "cell_type": "code",
   "execution_count": 18,
   "metadata": {},
   "outputs": [
    {
     "name": "stdout",
     "output_type": "stream",
     "text": [
      "['Banana', 'Mango', 'Stuti', 'Aurghya']\n"
     ]
    }
   ],
   "source": [
    "# remove funtion\n",
    "arr.remove(\"Apple\")\n",
    "print(arr)"
   ]
  },
  {
   "cell_type": "code",
   "execution_count": 19,
   "metadata": {},
   "outputs": [
    {
     "name": "stdout",
     "output_type": "stream",
     "text": [
      "['Banana', 'Mango', 'Stuti']\n"
     ]
    }
   ],
   "source": [
    "# pop function\n",
    "arr.pop()\n",
    "print(arr)"
   ]
  },
  {
   "cell_type": "code",
   "execution_count": 20,
   "metadata": {},
   "outputs": [
    {
     "name": "stdout",
     "output_type": "stream",
     "text": [
      "['Mango', 'Stuti']\n"
     ]
    }
   ],
   "source": [
    "# delete operator/function\n",
    "del arr[0]\n",
    "print(arr)"
   ]
  },
  {
   "cell_type": "code",
   "execution_count": 21,
   "metadata": {},
   "outputs": [
    {
     "name": "stdout",
     "output_type": "stream",
     "text": [
      "[]\n"
     ]
    }
   ],
   "source": [
    "# clear function\n",
    "arr.clear()\n",
    "print(arr)"
   ]
  },
  {
   "cell_type": "code",
   "execution_count": 22,
   "metadata": {},
   "outputs": [
    {
     "data": {
      "text/plain": [
       "[1, 2, 3, 'a', 'b', 'c']"
      ]
     },
     "execution_count": 22,
     "metadata": {},
     "output_type": "execute_result"
    }
   ],
   "source": [
    "arr = [1, 2, 3]\n",
    "arr2 = [\"a\", \"b\", \"c\"]\n",
    "\n",
    "# concatination of two list\n",
    "arr3 = arr + arr2\n",
    "arr3"
   ]
  },
  {
   "cell_type": "code",
   "execution_count": 23,
   "metadata": {},
   "outputs": [],
   "source": [
    "# dictionary\n",
    "sample_dict = {\n",
    "    \"Name\": \"Stuti\",\n",
    "    \"Age\": 23,\n",
    "    \"State\": \"WB\"\n",
    "}"
   ]
  },
  {
   "cell_type": "code",
   "execution_count": 24,
   "metadata": {},
   "outputs": [
    {
     "data": {
      "text/plain": [
       "'WB'"
      ]
     },
     "execution_count": 24,
     "metadata": {},
     "output_type": "execute_result"
    }
   ],
   "source": [
    "# get value by key\n",
    "sample_dict[\"State\"]"
   ]
  },
  {
   "cell_type": "code",
   "execution_count": 25,
   "metadata": {},
   "outputs": [
    {
     "name": "stdout",
     "output_type": "stream",
     "text": [
      "Name\n",
      "Age\n",
      "State\n"
     ]
    }
   ],
   "source": [
    "# loop through a dictionary\n",
    "for x in sample_dict:\n",
    "    print(x)"
   ]
  },
  {
   "cell_type": "code",
   "execution_count": 26,
   "metadata": {},
   "outputs": [
    {
     "name": "stdout",
     "output_type": "stream",
     "text": [
      "Name Stuti\n",
      "Age 23\n",
      "State WB\n"
     ]
    }
   ],
   "source": [
    "# loop through a dictionary using key value\n",
    "for x,y in sample_dict.items():\n",
    "    print(x, y)"
   ]
  },
  {
   "cell_type": "code",
   "execution_count": 27,
   "metadata": {},
   "outputs": [
    {
     "name": "stdout",
     "output_type": "stream",
     "text": [
      "{'Name': 'Stuti', 'Age': 23, 'State': 'WB', 'Fav Color': 'Black'}\n"
     ]
    }
   ],
   "source": [
    "# add a key value to a dictionary\n",
    "sample_dict[\"Fav Color\"] = \"Black\"\n",
    "print(sample_dict)"
   ]
  },
  {
   "cell_type": "code",
   "execution_count": 28,
   "metadata": {},
   "outputs": [
    {
     "name": "stdout",
     "output_type": "stream",
     "text": [
      "{'Name': 'Stuti', 'Age': 23, 'State': 'WB'}\n"
     ]
    }
   ],
   "source": [
    "# pop function\n",
    "sample_dict.pop('Fav Color')\n",
    "print(sample_dict)"
   ]
  },
  {
   "cell_type": "code",
   "execution_count": 29,
   "metadata": {},
   "outputs": [],
   "source": [
    "# nested dictionary\n",
    "sample_dict = {\n",
    "    \"Person 1\" : {\n",
    "        \"Name\": \"Aurghya\"\n",
    "    }\n",
    "}"
   ]
  }
 ],
 "metadata": {
  "kernelspec": {
   "display_name": "Python 3",
   "language": "python",
   "name": "python3"
  },
  "language_info": {
   "codemirror_mode": {
    "name": "ipython",
    "version": 3
   },
   "file_extension": ".py",
   "mimetype": "text/x-python",
   "name": "python",
   "nbconvert_exporter": "python",
   "pygments_lexer": "ipython3",
   "version": "3.7.6"
  }
 },
 "nbformat": 4,
 "nbformat_minor": 4
}
