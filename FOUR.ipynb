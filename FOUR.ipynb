{
 "cells": [
  {
   "cell_type": "markdown",
   "metadata": {},
   "source": [
    "# Learning Python - 4\n",
    "## Functions"
   ]
  },
  {
   "cell_type": "markdown",
   "metadata": {},
   "source": [
    "Python function declartion is done like this \n",
    "```python\n",
    "def function_name(arguments):\n",
    "    #function body\n",
    "```"
   ]
  },
  {
   "cell_type": "markdown",
   "metadata": {},
   "source": [
    "Function without argument"
   ]
  },
  {
   "cell_type": "code",
   "execution_count": 1,
   "metadata": {
    "scrolled": true
   },
   "outputs": [
    {
     "name": "stdout",
     "output_type": "stream",
     "text": [
      "My function\n"
     ]
    }
   ],
   "source": [
    "def function_name():\n",
    "    print(\"My function\")\n",
    "    \n",
    "function_name()"
   ]
  },
  {
   "cell_type": "markdown",
   "metadata": {},
   "source": [
    "Function with arguments.\n",
    "\n",
    "**Note:** Python does not have types for arguments. See below example."
   ]
  },
  {
   "cell_type": "code",
   "execution_count": 2,
   "metadata": {},
   "outputs": [
    {
     "name": "stdout",
     "output_type": "stream",
     "text": [
      "5\n",
      "Stuti Majumdar\n"
     ]
    }
   ],
   "source": [
    "def myFunction(x, y):\n",
    "    z = x+y\n",
    "    print(z)\n",
    "\n",
    "myFunction(2,3)\n",
    "myFunction(\"Stuti \",\"Majumdar\")"
   ]
  },
  {
   "cell_type": "markdown",
   "metadata": {},
   "source": [
    "Function with unknown number of arguments."
   ]
  },
  {
   "cell_type": "code",
   "execution_count": 3,
   "metadata": {},
   "outputs": [
    {
     "name": "stdout",
     "output_type": "stream",
     "text": [
      "15\n"
     ]
    }
   ],
   "source": [
    "def myFunction2(*myArg):\n",
    "    s = 0\n",
    "    for i in myArg:\n",
    "        s = s + i\n",
    "    print(s)\n",
    "    \n",
    "myFunction2(1,2,3,4,5)"
   ]
  },
  {
   "cell_type": "markdown",
   "metadata": {},
   "source": [
    "Named arguments.\n",
    "\n",
    "*Order of arguments does not matter in named arguments*"
   ]
  },
  {
   "cell_type": "code",
   "execution_count": 4,
   "metadata": {},
   "outputs": [
    {
     "name": "stdout",
     "output_type": "stream",
     "text": [
      "Stuti Majumdar\n"
     ]
    }
   ],
   "source": [
    "def function3(fname, lname):\n",
    "    print(fname + \" \" + lname)\n",
    "\n",
    "function3(lname = \"Majumdar\", fname = \"Stuti\")"
   ]
  },
  {
   "cell_type": "markdown",
   "metadata": {},
   "source": [
    "Unknown number of arguments with named argument support."
   ]
  },
  {
   "cell_type": "code",
   "execution_count": 5,
   "metadata": {},
   "outputs": [
    {
     "name": "stdout",
     "output_type": "stream",
     "text": [
      "{'fname': 'Stuti', 'lname': 'Majumdar', 'state': 'WB', 'district': 'Nadia'}\n",
      "Stuti Majumdar\n",
      "WB\n"
     ]
    }
   ],
   "source": [
    "def function4(**myArgs):\n",
    "    print(myArgs)\n",
    "    print(myArgs[\"fname\"] + \" \" + myArgs[\"lname\"])\n",
    "    print(myArgs[\"state\"])\n",
    "    \n",
    "function4(fname = 'Stuti', lname = \"Majumdar\", state = 'WB', district = 'Nadia')"
   ]
  },
  {
   "cell_type": "markdown",
   "metadata": {},
   "source": [
    "Default values."
   ]
  },
  {
   "cell_type": "code",
   "execution_count": 6,
   "metadata": {
    "scrolled": true
   },
   "outputs": [
    {
     "name": "stdout",
     "output_type": "stream",
     "text": [
      "WB\n"
     ]
    }
   ],
   "source": [
    "def function5(state = \"WB\"):\n",
    "    print(state)\n",
    "\n",
    "function5()"
   ]
  },
  {
   "cell_type": "markdown",
   "metadata": {},
   "source": [
    "Functions with multiple return values."
   ]
  },
  {
   "cell_type": "code",
   "execution_count": 8,
   "metadata": {},
   "outputs": [
    {
     "name": "stdout",
     "output_type": "stream",
     "text": [
      "Hello Stuti\n",
      "It is Morning\n",
      "Good Day\n"
     ]
    }
   ],
   "source": [
    "def function7(x, y, z):\n",
    "    return \"Hello \" + x, \"It is \" + y, \"Good \" + z\n",
    "\n",
    "a, b, c = function7(\"Stuti\", \"Morning\", \"Day\")\n",
    "print(a)\n",
    "print(b)\n",
    "print(c)"
   ]
  },
  {
   "cell_type": "markdown",
   "metadata": {},
   "source": [
    "Recursive functions"
   ]
  },
  {
   "cell_type": "code",
   "execution_count": 9,
   "metadata": {},
   "outputs": [
    {
     "name": "stdout",
     "output_type": "stream",
     "text": [
      "The factorial of 5 is 120\n"
     ]
    }
   ],
   "source": [
    "def calc_factorial(x):\n",
    "    \"\"\"This is a recursive function\n",
    "    to find the factorial of an integer\"\"\"\n",
    "\n",
    "    if x == 1:\n",
    "        return 1\n",
    "    else:\n",
    "        return (x * calc_factorial(x-1))\n",
    "\n",
    "num = 5\n",
    "print(\"The factorial of\", num, \"is\", calc_factorial(num))"
   ]
  },
  {
   "cell_type": "markdown",
   "metadata": {},
   "source": [
    "### Lambda Functions"
   ]
  },
  {
   "cell_type": "markdown",
   "metadata": {},
   "source": [
    "Lambda functions are anonymous functions which can take any number of arguments but have only one expression."
   ]
  },
  {
   "cell_type": "code",
   "execution_count": 10,
   "metadata": {},
   "outputs": [
    {
     "name": "stdout",
     "output_type": "stream",
     "text": [
      "15\n"
     ]
    }
   ],
   "source": [
    "x = lambda a: a + 10\n",
    "\n",
    "print(x(5))"
   ]
  },
  {
   "cell_type": "code",
   "execution_count": 11,
   "metadata": {},
   "outputs": [
    {
     "name": "stdout",
     "output_type": "stream",
     "text": [
      "6\n"
     ]
    }
   ],
   "source": [
    "function_name = lambda a, b: a * b\n",
    "\n",
    "print(function_name(2,3))"
   ]
  },
  {
   "cell_type": "markdown",
   "metadata": {},
   "source": [
    "A typical use of lambda function"
   ]
  },
  {
   "cell_type": "code",
   "execution_count": 12,
   "metadata": {},
   "outputs": [
    {
     "name": "stdout",
     "output_type": "stream",
     "text": [
      "8\n",
      "12\n"
     ]
    }
   ],
   "source": [
    "def myFunctionW(n):\n",
    "    return lambda a: a * n\n",
    "\n",
    "doubler = myFunctionW(2)\n",
    "tripler = myFunctionW(3)\n",
    "\n",
    "print(doubler(4))\n",
    "print(tripler(4))"
   ]
  },
  {
   "cell_type": "markdown",
   "metadata": {},
   "source": [
    "A proper and heavily used example of lambda function where we use the `filter()` to filter a list, and the filtering condition is given by a lambda function."
   ]
  },
  {
   "cell_type": "code",
   "execution_count": 13,
   "metadata": {},
   "outputs": [
    {
     "name": "stdout",
     "output_type": "stream",
     "text": [
      "[1, 2, 3, 4, 5, 6, 7, 8, 9, 10, 11, 12, 13, 14, 15, 16, 17, 18, 19]\n",
      "[2, 4, 6, 8, 10, 12, 14, 16, 18]\n"
     ]
    }
   ],
   "source": [
    "arr = [i for i in range(1, 20)]\n",
    "print(arr)\n",
    "\n",
    "\n",
    "new_arr = list(filter(lambda x: (x%2 == 0), arr))\n",
    "print(new_arr)"
   ]
  },
  {
   "cell_type": "markdown",
   "metadata": {},
   "source": [
    "Same kind of usage but with `map()`"
   ]
  },
  {
   "cell_type": "code",
   "execution_count": 14,
   "metadata": {},
   "outputs": [
    {
     "name": "stdout",
     "output_type": "stream",
     "text": [
      "[1, 2, 3, 4]\n",
      "[3, 6, 9, 12]\n"
     ]
    }
   ],
   "source": [
    "arr = [i for i in range(1,5)]\n",
    "\n",
    "# for i in range(1,5):\n",
    "#     arr.append(i)\n",
    "\n",
    "print(arr)\n",
    "\n",
    "new_arr = list(map(lambda x: x*3, arr))\n",
    "print(new_arr)"
   ]
  }
 ],
 "metadata": {
  "kernelspec": {
   "display_name": "Python 3",
   "language": "python",
   "name": "python3"
  },
  "language_info": {
   "codemirror_mode": {
    "name": "ipython",
    "version": 3
   },
   "file_extension": ".py",
   "mimetype": "text/x-python",
   "name": "python",
   "nbconvert_exporter": "python",
   "pygments_lexer": "ipython3",
   "version": "3.7.6"
  }
 },
 "nbformat": 4,
 "nbformat_minor": 4
}
