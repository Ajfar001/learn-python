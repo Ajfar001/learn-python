{
 "cells": [
  {
   "cell_type": "markdown",
   "metadata": {},
   "source": [
    "# Learning Python - 3\n",
    "# Branching and Looping"
   ]
  },
  {
   "cell_type": "markdown",
   "metadata": {},
   "source": [
    "Python has two types of loops, the `while` loop and the `for` loop. It's good to take note that python does not have a `do..while` loop."
   ]
  },
  {
   "cell_type": "markdown",
   "metadata": {},
   "source": [
    "---"
   ]
  },
  {
   "cell_type": "markdown",
   "metadata": {},
   "source": [
    "## While Loop\n",
    "Like any other programming language, the `while` loop is made made of two parts.\n",
    "1. Condition for the loop to run.\n",
    "2. The statements to execute when the condition is true."
   ]
  },
  {
   "cell_type": "code",
   "execution_count": null,
   "metadata": {},
   "outputs": [],
   "source": [
    "# while loop\n",
    "i = 3\n",
    "\n",
    "while i > -1:\n",
    "    print(i)\n",
    "    i -= 1"
   ]
  },
  {
   "cell_type": "markdown",
   "metadata": {},
   "source": [
    "Note that `++` and `--` operators are not present in python as python is designed to be simple and readable. Also, python doesn't need increment and decrement operator as much as in other languages."
   ]
  },
  {
   "cell_type": "markdown",
   "metadata": {},
   "source": [
    "## While...Else Loop\n",
    "The `while...else` loop is much like `do...while` loop in other languges, but instead of running whether or not the condition is true, `while...else` loop runs the code within `else` block when the condition is no longer true."
   ]
  },
  {
   "cell_type": "code",
   "execution_count": null,
   "metadata": {},
   "outputs": [],
   "source": [
    "# while...else loop\n",
    "i = 3\n",
    "\n",
    "while i > -1:\n",
    "    print(i)\n",
    "    i -= 1\n",
    "else:\n",
    "    print(\"The loop stopped\")\n",
    "\n",
    "# another example\n",
    "i = 0\n",
    "\n",
    "while i < 0:\n",
    "    print(i)\n",
    "    i -= 1\n",
    "else:\n",
    "    print(\"The loop isn't running\")"
   ]
  },
  {
   "cell_type": "markdown",
   "metadata": {},
   "source": [
    "## For loop\n",
    "Python `for` loop is used for iterating over a sequence. A sequence can either be a list, tuple, range, dictionary, set or a string.\n",
    "`for` loop in python is different from other programming languages and works more like an iterator methods found in other object oriented programming languages."
   ]
  },
  {
   "cell_type": "code",
   "execution_count": null,
   "metadata": {},
   "outputs": [],
   "source": [
    "# list\n",
    "sample_list = [1, 2, 3, \"Apple\", \"Banana\"]\n",
    "\n",
    "for i in sample_list:\n",
    "    print(i)"
   ]
  },
  {
   "cell_type": "code",
   "execution_count": null,
   "metadata": {},
   "outputs": [],
   "source": [
    "# tuple\n",
    "sample_tuple = (4, 5, 6, \"Cocoa\", \"Dryfruits\")\n",
    "\n",
    "for i in sample_tuple:\n",
    "    print(i)"
   ]
  },
  {
   "cell_type": "code",
   "execution_count": null,
   "metadata": {},
   "outputs": [],
   "source": [
    "# range\n",
    "sample_range = range(1, 10)\n",
    "\n",
    "for i in sample_range:\n",
    "    print(i)"
   ]
  },
  {
   "cell_type": "code",
   "execution_count": null,
   "metadata": {},
   "outputs": [],
   "source": [
    "# dictionary\n",
    "sample_dict = {\n",
    "    \"Name\": \"Aurghya\",\n",
    "    \"State\": \"WB\"\n",
    "}\n",
    "\n",
    "# only keys\n",
    "for i in sample_dict:\n",
    "    print(i)\n",
    "    \n",
    "\n",
    "# both key value pair\n",
    "for i, j in sample_dict.items():\n",
    "    print(i,j)"
   ]
  },
  {
   "cell_type": "code",
   "execution_count": null,
   "metadata": {},
   "outputs": [],
   "source": [
    "# set\n",
    "sample_set = {\"Apple\", \"Banana\"}\n",
    "\n",
    "for i in sample_set:\n",
    "    print(i)"
   ]
  },
  {
   "cell_type": "code",
   "execution_count": null,
   "metadata": {
    "scrolled": true
   },
   "outputs": [],
   "source": [
    "# string\n",
    "sample_string = \"Hello\"\n",
    "\n",
    "for i in sample_string:\n",
    "    print(i)"
   ]
  },
  {
   "cell_type": "markdown",
   "metadata": {},
   "source": [
    "### For...Else loop\n",
    "`for...else` loop is similar to the `while...else` loop that has been discussed earlier. `else` block only executes after the loop has completely executed."
   ]
  },
  {
   "cell_type": "code",
   "execution_count": null,
   "metadata": {},
   "outputs": [],
   "source": [
    "for i in range(5):\n",
    "    print(i)\n",
    "else:\n",
    "    print(\"The loop has ended\")\n",
    "print(\"The else block has also ended.\")"
   ]
  },
  {
   "cell_type": "markdown",
   "metadata": {},
   "source": [
    "## Break, Continue and Pass"
   ]
  },
  {
   "cell_type": "markdown",
   "metadata": {},
   "source": [
    "### Break\n",
    "The `break` statement can stop the loop before it has completely looped through all the items."
   ]
  },
  {
   "cell_type": "code",
   "execution_count": null,
   "metadata": {},
   "outputs": [],
   "source": [
    "# usage of break in for loop\n",
    "for i in range(1, 10):\n",
    "    if i == 5:\n",
    "        break\n",
    "    print(i)"
   ]
  },
  {
   "cell_type": "code",
   "execution_count": null,
   "metadata": {},
   "outputs": [],
   "source": [
    "# usage of break in while loop\n",
    "i = 0\n",
    "\n",
    "while i < 10:\n",
    "    if i == 5:\n",
    "        break\n",
    "    print(i)\n",
    "    i += 1"
   ]
  },
  {
   "cell_type": "markdown",
   "metadata": {},
   "source": [
    "### Continue\n",
    "The `continue` statement stops the current iteration and continues the next."
   ]
  },
  {
   "cell_type": "code",
   "execution_count": null,
   "metadata": {},
   "outputs": [],
   "source": [
    "# continue in for loop\n",
    "for i in range(10):\n",
    "    if i == 2:\n",
    "        continue\n",
    "    print(i)"
   ]
  },
  {
   "cell_type": "code",
   "execution_count": null,
   "metadata": {},
   "outputs": [],
   "source": [
    "# continue in while loop \n",
    "i = 0\n",
    "\n",
    "while i < 10:\n",
    "    if i == 2:\n",
    "        continue\n",
    "    print(i)"
   ]
  },
  {
   "cell_type": "markdown",
   "metadata": {},
   "source": [
    "### Pass\n",
    "`for` loops can't be empty. So, if we don't have any statements to write inside the loop, we use `pass`"
   ]
  },
  {
   "cell_type": "code",
   "execution_count": null,
   "metadata": {},
   "outputs": [],
   "source": [
    "# pass in for\n",
    "for i in range(2):\n",
    "    pass"
   ]
  },
  {
   "cell_type": "markdown",
   "metadata": {},
   "source": [
    "Note that using `pass` in `while` loops can cause an infinite loop situation"
   ]
  },
  {
   "cell_type": "markdown",
   "metadata": {},
   "source": [
    "## Nested Loops\n",
    "Like in every other programming languages, loops can be nested."
   ]
  },
  {
   "cell_type": "code",
   "execution_count": null,
   "metadata": {},
   "outputs": [],
   "source": [
    "for i in range(2):\n",
    "    for j in range(i + 1):\n",
    "        print(i, j)"
   ]
  },
  {
   "cell_type": "markdown",
   "metadata": {},
   "source": [
    "---"
   ]
  },
  {
   "cell_type": "markdown",
   "metadata": {},
   "source": [
    "# Exercise\n",
    "1. Check if a number is prime or not using `for` loop.\n",
    "2. Find the sum of digits of a number using `while` loop."
   ]
  }
 ],
 "metadata": {
  "kernelspec": {
   "display_name": "Python 3",
   "language": "python",
   "name": "python3"
  },
  "language_info": {
   "codemirror_mode": {
    "name": "ipython",
    "version": 3
   },
   "file_extension": ".py",
   "mimetype": "text/x-python",
   "name": "python",
   "nbconvert_exporter": "python",
   "pygments_lexer": "ipython3",
   "version": "3.7.6"
  }
 },
 "nbformat": 4,
 "nbformat_minor": 4
}
